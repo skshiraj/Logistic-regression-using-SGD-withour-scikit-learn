{
 "cells": [
  {
   "cell_type": "code",
   "execution_count": 64,
   "metadata": {
    "colab": {},
    "colab_type": "code",
    "id": "FUxLkBjISvmr"
   },
   "outputs": [
    {
     "data": {
      "text/plain": [
       "((50000, 15), (50000,))"
      ]
     },
     "execution_count": 64,
     "metadata": {},
     "output_type": "execute_result"
    }
   ],
   "source": [
    "import numpy as np\n",
    "import pandas as pd\n",
    "from sklearn.datasets import make_classification\n",
    "\n",
    "# Generate the data\n",
    "X, y = make_classification(n_samples=50000, n_features=15, n_informative=10, n_redundant=5, n_classes=2, \n",
    "                           weights=[0.7], class_sep=0.7, random_state=15)\n",
    "\n",
    "X.shape, y.shape"
   ]
  },
  {
   "cell_type": "code",
   "execution_count": 65,
   "metadata": {
    "colab": {},
    "colab_type": "code",
    "id": "9pKAn1-ASvm_"
   },
   "outputs": [
    {
     "data": {
      "text/plain": [
       "((37500, 15), (37500,), (12500, 15), (12500,))"
      ]
     },
     "execution_count": 65,
     "metadata": {},
     "output_type": "execute_result"
    }
   ],
   "source": [
    "# Split the data into train and test\n",
    "\n",
    "from sklearn.model_selection import train_test_split\n",
    "\n",
    "X_train, X_test, y_train, y_test = train_test_split(X, y, test_size=0.25, random_state=15)\n",
    "\n",
    "X_train.shape, y_train.shape, X_test.shape, y_test.shape"
   ]
  },
  {
   "cell_type": "markdown",
   "metadata": {},
   "source": [
    "## Logistc Regression with L2 regularization Using SGD: with sklearn"
   ]
  },
  {
   "cell_type": "code",
   "execution_count": 66,
   "metadata": {
    "colab": {},
    "colab_type": "code",
    "id": "gm6wi8L2SvnU",
    "outputId": "dccc42b5-e1eb-4e2f-9fa2-07f405d4f761"
   },
   "outputs": [
    {
     "data": {
      "text/plain": [
       "SGDClassifier(alpha=0.0001, average=False, class_weight=None,\n",
       "              early_stopping=False, epsilon=0.1, eta0=0.0001,\n",
       "              fit_intercept=True, l1_ratio=0.15, learning_rate='constant',\n",
       "              loss='log', max_iter=1000, n_iter_no_change=5, n_jobs=None,\n",
       "              penalty='l2', power_t=0.5, random_state=15, shuffle=True,\n",
       "              tol=0.001, validation_fraction=0.1, verbose=2, warm_start=False)"
      ]
     },
     "execution_count": 66,
     "metadata": {},
     "output_type": "execute_result"
    }
   ],
   "source": [
    "from sklearn import linear_model\n",
    "\n",
    "# Documentation: https://scikit-learn.org/stable/modules/generated/sklearn.linear_model.SGDClassifier.html\n",
    "\n",
    "clf = linear_model.SGDClassifier(eta0=0.0001, alpha=0.0001, loss='log', random_state=15, penalty='l2', tol=1e-3, verbose=2, learning_rate='constant')\n",
    "clf"
   ]
  },
  {
   "cell_type": "code",
   "execution_count": 67,
   "metadata": {
    "colab": {},
    "colab_type": "code",
    "id": "Q4WFoxgASvnc",
    "outputId": "469de818-0a3e-42e8-bc19-ac6d088b9617"
   },
   "outputs": [
    {
     "name": "stdout",
     "output_type": "stream",
     "text": [
      "-- Epoch 1\n",
      "Norm: 0.77, NNZs: 15, Bias: -0.316653, T: 37500, Avg. loss: 0.455552\n",
      "Total training time: 0.02 seconds.\n",
      "-- Epoch 2\n",
      "Norm: 0.91, NNZs: 15, Bias: -0.472747, T: 75000, Avg. loss: 0.394686\n",
      "Total training time: 0.04 seconds.\n",
      "-- Epoch 3\n",
      "Norm: 0.98, NNZs: 15, Bias: -0.580082, T: 112500, Avg. loss: 0.385711\n",
      "Total training time: 0.06 seconds.\n",
      "-- Epoch 4\n",
      "Norm: 1.02, NNZs: 15, Bias: -0.658292, T: 150000, Avg. loss: 0.382083\n",
      "Total training time: 0.07 seconds.\n",
      "-- Epoch 5\n",
      "Norm: 1.04, NNZs: 15, Bias: -0.719528, T: 187500, Avg. loss: 0.380486\n",
      "Total training time: 0.10 seconds.\n",
      "-- Epoch 6\n",
      "Norm: 1.05, NNZs: 15, Bias: -0.763409, T: 225000, Avg. loss: 0.379578\n",
      "Total training time: 0.12 seconds.\n",
      "-- Epoch 7\n",
      "Norm: 1.06, NNZs: 15, Bias: -0.795106, T: 262500, Avg. loss: 0.379150\n",
      "Total training time: 0.14 seconds.\n",
      "-- Epoch 8\n",
      "Norm: 1.06, NNZs: 15, Bias: -0.819925, T: 300000, Avg. loss: 0.378856\n",
      "Total training time: 0.16 seconds.\n",
      "-- Epoch 9\n",
      "Norm: 1.07, NNZs: 15, Bias: -0.837805, T: 337500, Avg. loss: 0.378585\n",
      "Total training time: 0.17 seconds.\n",
      "-- Epoch 10\n",
      "Norm: 1.08, NNZs: 15, Bias: -0.853138, T: 375000, Avg. loss: 0.378630\n",
      "Total training time: 0.20 seconds.\n",
      "Convergence after 10 epochs took 0.20 seconds\n"
     ]
    },
    {
     "data": {
      "text/plain": [
       "SGDClassifier(alpha=0.0001, average=False, class_weight=None,\n",
       "              early_stopping=False, epsilon=0.1, eta0=0.0001,\n",
       "              fit_intercept=True, l1_ratio=0.15, learning_rate='constant',\n",
       "              loss='log', max_iter=1000, n_iter_no_change=5, n_jobs=None,\n",
       "              penalty='l2', power_t=0.5, random_state=15, shuffle=True,\n",
       "              tol=0.001, validation_fraction=0.1, verbose=2, warm_start=False)"
      ]
     },
     "execution_count": 67,
     "metadata": {},
     "output_type": "execute_result"
    }
   ],
   "source": [
    "clf.fit(X=X_train, y=y_train)"
   ]
  },
  {
   "cell_type": "code",
   "execution_count": 68,
   "metadata": {
    "colab": {},
    "colab_type": "code",
    "id": "7WaVxhGpSvnj",
    "outputId": "1e67badc-96e7-4633-eb72-1d4c24aaa295"
   },
   "outputs": [
    {
     "name": "stdout",
     "output_type": "stream",
     "text": [
      "Weight vector (w):\n",
      "[[-0.42336692  0.18547565 -0.14859036  0.34144407 -0.2081867   0.56016579\n",
      "  -0.45242483 -0.09408813  0.2092732   0.18084126  0.19705191  0.00421916\n",
      "  -0.0796037   0.33852802  0.02266721]]\n",
      "\n",
      "w's shape:\n",
      "(1, 15)\n",
      "\n",
      "Intercept (b):\n",
      "[-0.8531383]\n"
     ]
    }
   ],
   "source": [
    "# weight vector (w) = clf.coef_\n",
    "# b = clf.intercept_\n",
    "\n",
    "print(\"Weight vector (w):\")\n",
    "print(clf.coef_)\n",
    "\n",
    "print(\"\\nw's shape:\")\n",
    "print(clf.coef_.shape) \n",
    "\n",
    "print(\"\\nIntercept (b):\")\n",
    "print(clf.intercept_)"
   ]
  },
  {
   "cell_type": "markdown",
   "metadata": {
    "colab_type": "text",
    "id": "Su9e8fRLSvno"
   },
   "source": [
    " "
   ]
  },
  {
   "cell_type": "markdown",
   "metadata": {
    "colab_type": "text",
    "id": "gcz5_UqCSvnq"
   },
   "source": [
    " "
   ]
  },
  {
   "cell_type": "markdown",
   "metadata": {
    "colab_type": "text",
    "id": "UOBvEchCSvnr"
   },
   "source": [
    "## Implement Logistc Regression with L2 regularization Using SGD: without using sklearn"
   ]
  },
  {
   "cell_type": "markdown",
   "metadata": {
    "colab_type": "text",
    "id": "Xbn61rrXSvnt"
   },
   "source": [
    "### Instructions"
   ]
  },
  {
   "cell_type": "markdown",
   "metadata": {
    "colab_type": "text",
    "id": "14bA5yR3Svnv"
   },
   "source": [
    "- Load the datasets(train and test) into the respective arrays"
   ]
  },
  {
   "cell_type": "markdown",
   "metadata": {
    "colab_type": "text",
    "id": "c7183hFBSvnv"
   },
   "source": [
    "- Initialize the weight_vector and intercept term randomly"
   ]
  },
  {
   "cell_type": "markdown",
   "metadata": {
    "colab_type": "text",
    "id": "hdLeFU0USvnx"
   },
   "source": [
    "- Calculate the initlal log loss for the train and test data with the current weight and intercept and store it in a list"
   ]
  },
  {
   "cell_type": "markdown",
   "metadata": {
    "colab_type": "text",
    "id": "pEVtAlO1Svny"
   },
   "source": [
    "- for each epoch:\n",
    "    - for each batch of data points in train: (keep batch size=1)\n",
    "        - calculate the gradient of loss function w.r.t each weight in weight vector\n",
    "        - Calculate the gradient of the intercept.\n",
    "        - Update weights and intercept: <br>\n",
    "        $w^{(t+1)} ← (1 − \\frac{αλ}{N} )w^{(t)} + αx_n(y_n − σ((w^{(t)})^{T} x_n+b^{t}))$ <br>\n",
    "        $b^{(t+1)} ← (b^t +  α(y_n - σ((w^{(t)})^{T} x_n+b^{t}))$ \n",
    "        - calculate the log loss for train and test with the updated weights (you can check the python assignment 10th question)\n",
    "        - And if you wish, you can compare the previous loss and the current loss, if it is not updating, then\n",
    "        you can stop the training\n",
    "        - append this loss in the list ( this will be used to see how loss is changing for each epoch after the training is over )\n"
   ]
  },
  {
   "cell_type": "markdown",
   "metadata": {
    "colab_type": "text",
    "id": "2qmRH4UpSvny"
   },
   "source": [
    "- Plot the train and test loss i.e on x-axis the epoch number, and on y-axis the loss"
   ]
  },
  {
   "cell_type": "markdown",
   "metadata": {
    "colab_type": "text",
    "id": "lbZf9p5gSvn1"
   },
   "source": [
    "- <strong>GOAL</strong>: compare your implementation and SGDClassifier's the weights and intercept, make sure they are as close as possible i.e difference should be in terms of 10^-3"
   ]
  },
  {
   "cell_type": "markdown",
   "metadata": {},
   "source": [
    "# Custom implementation"
   ]
  },
  {
   "cell_type": "markdown",
   "metadata": {},
   "source": [
    "**1. Load the datasets(train and test) into the respective arrays**"
   ]
  },
  {
   "cell_type": "code",
   "execution_count": 69,
   "metadata": {},
   "outputs": [
    {
     "data": {
      "text/plain": [
       "((37500, 15), (37500,), (12500, 15), (12500,))"
      ]
     },
     "execution_count": 69,
     "metadata": {},
     "output_type": "execute_result"
    }
   ],
   "source": [
    "# Already done\n",
    "\n",
    "X_train.shape, y_train.shape, X_test.shape, y_test.shape"
   ]
  },
  {
   "cell_type": "markdown",
   "metadata": {},
   "source": [
    "**2. Initialize the weight_vector and intercept term randomly**"
   ]
  },
  {
   "cell_type": "code",
   "execution_count": 70,
   "metadata": {
    "colab": {},
    "colab_type": "code",
    "id": "Fpz8X5DMSvn2"
   },
   "outputs": [
    {
     "data": {
      "text/plain": [
       "37500"
      ]
     },
     "execution_count": 70,
     "metadata": {},
     "output_type": "execute_result"
    }
   ],
   "source": [
    "# Make zeros vetor like X_train[0]'s shape\n",
    "w = np.zeros_like(X_train[0])\n",
    "b = 0\n",
    "\n",
    "eta0  = 0.0001 # learning rate r\n",
    "alpha = 0.0001 # lambda\n",
    "\n",
    "N = len(X_train)\n",
    "N"
   ]
  },
  {
   "cell_type": "markdown",
   "metadata": {},
   "source": [
    "**3. Calculate the initlal log loss for the train and test data with the current weight and intercept and store it in a list**"
   ]
  },
  {
   "cell_type": "code",
   "execution_count": 71,
   "metadata": {
    "colab": {},
    "colab_type": "code",
    "id": "B6Y5kVscSvn5"
   },
   "outputs": [
    {
     "name": "stdout",
     "output_type": "stream",
     "text": [
      "Log-loss on train data given initial w and b:\n",
      "0.6931471805594285\n",
      "Log-loss on test data given initial w and b:\n",
      "0.6931471805600672\n"
     ]
    }
   ],
   "source": [
    "# please choose the number of iternations on your own\n",
    "\n",
    "from math import log\n",
    "\n",
    "# this returns the p(y=1|x) for a single point given w and b\n",
    "def sigmoid(w, x, b):\n",
    "    \n",
    "    z = np.dot(w, x) + b\n",
    "    return (1 / (1 + np.exp(-z)))\n",
    "\n",
    "# predicting array of p(y=1|x) with sigmoid function given w and b\n",
    "def predict(w, x, b):\n",
    "    \n",
    "    predicted_prob = []\n",
    "    for i in range(len(x)):\n",
    "        predicted_prob.append(sigmoid(w, x[i], b))\n",
    "    return np.array(predicted_prob)\n",
    "\n",
    "# average log-loss = log-loss of all points / number of points\n",
    "def logloss(true_label, predicted, eps=1e-15):\n",
    "    \n",
    "    # p is a squashed array between the interval of (tends to 0 value, tends to 1 value)\n",
    "    p = np.clip(predicted, eps, 1 - eps)\n",
    "    log_loss = 0\n",
    "    \n",
    "    for i in range(len(true_label)):\n",
    "        \n",
    "        if true_label[i] == 1:\n",
    "            log_loss = log_loss - log(p[i])\n",
    "        else:\n",
    "            log_loss = log_loss - log(1 - p[i])\n",
    "            \n",
    "    return log_loss/len(true_label)\n",
    "    \n",
    "# predicting y-values for X_train\n",
    "y_train_pred = predict(w, X_train, b)\n",
    "\n",
    "# calculating log-loss for training data and appending into a list \"train_loss\"\n",
    "train_loss = []\n",
    "train_loss.append(logloss(y_train, y_train_pred))\n",
    "\n",
    "print(\"Log-loss on train data given initial w and b:\")\n",
    "print(train_loss[0])\n",
    "\n",
    "# predicting y-values for X_test\n",
    "y_test_pred = predict(w, X_test, b)\n",
    "\n",
    "test_loss = []\n",
    "test_loss.append(logloss(y_test, y_test_pred))\n",
    "\n",
    "print(\"Log-loss on test data given initial w and b:\")\n",
    "print(test_loss[0])"
   ]
  },
  {
   "cell_type": "markdown",
   "metadata": {},
   "source": [
    "**4. For each epoch calculate train and test log-loss**"
   ]
  },
  {
   "cell_type": "code",
   "execution_count": 73,
   "metadata": {},
   "outputs": [
    {
     "name": "stdout",
     "output_type": "stream",
     "text": [
      "-- Epoch 0 -- train-loss: 0.3784137874539846, test-loss: 0.38085293961516664\n",
      "-- Epoch 1 -- train-loss: 0.3784918445623772, test-loss: 0.38059094528831733\n",
      "-- Epoch 2 -- train-loss: 0.3781712700704728, test-loss: 0.3803897118951291\n",
      "-- Epoch 3 -- train-loss: 0.37836270477597234, test-loss: 0.3802364292304508\n",
      "-- Epoch 4 -- train-loss: 0.37838905804698386, test-loss: 0.38067573754907025\n",
      "-- Epoch 5 -- train-loss: 0.3783483716428948, test-loss: 0.38062017626725764\n",
      "-- Epoch 6 -- train-loss: 0.37836051660695386, test-loss: 0.3807462133514127\n",
      "-- Epoch 7 -- train-loss: 0.37827217378901906, test-loss: 0.3806185619541498\n",
      "-- Epoch 8 -- train-loss: 0.37864712446262566, test-loss: 0.3812287234301546\n",
      "-- Epoch 9 -- train-loss: 0.37820612174363943, test-loss: 0.38020282085051943\n",
      "-- Epoch 10 -- train-loss: 0.3791249305978605, test-loss: 0.3809636816736647\n",
      "-- Epoch 11 -- train-loss: 0.3782184497127133, test-loss: 0.3803135253689085\n",
      "-- Epoch 12 -- train-loss: 0.3784386432307199, test-loss: 0.38065535895001484\n",
      "-- Epoch 13 -- train-loss: 0.3785597225555245, test-loss: 0.3806810769898274\n",
      "-- Epoch 14 -- train-loss: 0.37838564908718797, test-loss: 0.3805810859449766\n",
      "-- Epoch 15 -- train-loss: 0.3789142228184684, test-loss: 0.38071522059564117\n",
      "-- Epoch 16 -- train-loss: 0.37836288371333204, test-loss: 0.38067524972023176\n",
      "-- Epoch 17 -- train-loss: 0.37817902429980393, test-loss: 0.38050388904310617\n",
      "-- Epoch 18 -- train-loss: 0.37819675504392175, test-loss: 0.3804587751753922\n",
      "-- Epoch 19 -- train-loss: 0.3784329821645338, test-loss: 0.3803302683320593\n",
      "-- Epoch 20 -- train-loss: 0.378604374550373, test-loss: 0.38021551313344687\n",
      "-- Epoch 21 -- train-loss: 0.3782475838439222, test-loss: 0.38027398420537334\n",
      "-- Epoch 22 -- train-loss: 0.37824744291593404, test-loss: 0.3805355167000577\n",
      "-- Epoch 23 -- train-loss: 0.3785105342253513, test-loss: 0.38079337294471227\n",
      "-- Epoch 24 -- train-loss: 0.37826894455315235, test-loss: 0.3803998461778189\n",
      "-- Epoch 25 -- train-loss: 0.37825466774160243, test-loss: 0.38035991280131726\n",
      "-- Epoch 26 -- train-loss: 0.37826414949738063, test-loss: 0.3806101811756431\n",
      "-- Epoch 27 -- train-loss: 0.3783855201900567, test-loss: 0.38090376430541345\n",
      "-- Epoch 28 -- train-loss: 0.378423679211658, test-loss: 0.3807103947155958\n",
      "-- Epoch 29 -- train-loss: 0.3782515528537146, test-loss: 0.3806606109521225\n",
      "-- Epoch 30 -- train-loss: 0.37836259061783817, test-loss: 0.38060669637591915\n",
      "-- Epoch 31 -- train-loss: 0.3783160604854106, test-loss: 0.3804386207183318\n",
      "-- Epoch 32 -- train-loss: 0.37876355828685315, test-loss: 0.3803652485032196\n",
      "-- Epoch 33 -- train-loss: 0.3784141893663483, test-loss: 0.38090806461025134\n",
      "-- Epoch 34 -- train-loss: 0.3783012547429158, test-loss: 0.3804805280716363\n",
      "-- Epoch 35 -- train-loss: 0.3783256933659021, test-loss: 0.38051473260297897\n",
      "-- Epoch 36 -- train-loss: 0.3783520367044295, test-loss: 0.3802316994808858\n",
      "-- Epoch 37 -- train-loss: 0.3785889959355904, test-loss: 0.38083133584256595\n",
      "-- Epoch 38 -- train-loss: 0.3782760962118906, test-loss: 0.3805455494485236\n",
      "-- Epoch 39 -- train-loss: 0.3783595757879435, test-loss: 0.3809527681878373\n",
      "-- Epoch 40 -- train-loss: 0.3783484794140434, test-loss: 0.38047162834980036\n",
      "-- Epoch 41 -- train-loss: 0.37827321226023375, test-loss: 0.38064066439305344\n",
      "-- Epoch 42 -- train-loss: 0.37850313550622633, test-loss: 0.38035670665271837\n",
      "-- Epoch 43 -- train-loss: 0.37878945359041005, test-loss: 0.38134306992121003\n",
      "-- Epoch 44 -- train-loss: 0.378897452631785, test-loss: 0.3813606686313724\n",
      "-- Epoch 45 -- train-loss: 0.3783084619202584, test-loss: 0.38035377026243355\n",
      "-- Epoch 46 -- train-loss: 0.3782821272149582, test-loss: 0.38035820249033464\n",
      "-- Epoch 47 -- train-loss: 0.37847193552196884, test-loss: 0.38014674333009646\n",
      "-- Epoch 48 -- train-loss: 0.37874741076972007, test-loss: 0.38034287280959717\n",
      "-- Epoch 49 -- train-loss: 0.37823819705906914, test-loss: 0.38027602843391317\n",
      "-- Epoch 50 -- train-loss: 0.3783076748202071, test-loss: 0.3805352033958031\n",
      "-- Epoch 51 -- train-loss: 0.37889946471505037, test-loss: 0.38082137858087967\n",
      "-- Epoch 52 -- train-loss: 0.37867011067038114, test-loss: 0.38085074252992074\n",
      "-- Epoch 53 -- train-loss: 0.3782829254182158, test-loss: 0.3808279029253035\n",
      "-- Epoch 54 -- train-loss: 0.37843178951201145, test-loss: 0.3808831081780991\n",
      "-- Epoch 55 -- train-loss: 0.3786239531541772, test-loss: 0.3805647986227522\n",
      "-- Epoch 56 -- train-loss: 0.3782321426790714, test-loss: 0.38041172052380073\n",
      "-- Epoch 57 -- train-loss: 0.3784508797588219, test-loss: 0.3806646731953967\n",
      "-- Epoch 58 -- train-loss: 0.378551197703038, test-loss: 0.3810108454499978\n",
      "-- Epoch 59 -- train-loss: 0.3784638175099334, test-loss: 0.380986878895308\n",
      "-- Epoch 60 -- train-loss: 0.37828465213239176, test-loss: 0.3804328931253306\n",
      "-- Epoch 61 -- train-loss: 0.3790375027427007, test-loss: 0.3813824058091168\n",
      "-- Epoch 62 -- train-loss: 0.378230228622705, test-loss: 0.38042878385115814\n",
      "-- Epoch 63 -- train-loss: 0.37862922686787, test-loss: 0.38087698500425393\n",
      "-- Epoch 64 -- train-loss: 0.3784075675720084, test-loss: 0.38085555590335823\n",
      "-- Epoch 65 -- train-loss: 0.37839251173578775, test-loss: 0.3802274136491968\n",
      "-- Epoch 66 -- train-loss: 0.3782999824563176, test-loss: 0.3805207609046078\n",
      "-- Epoch 67 -- train-loss: 0.3782288557972976, test-loss: 0.38048291536224654\n",
      "-- Epoch 68 -- train-loss: 0.3783523214780303, test-loss: 0.38067835614222234\n",
      "-- Epoch 69 -- train-loss: 0.3785295613375552, test-loss: 0.3806726333506504\n",
      "-- Epoch 70 -- train-loss: 0.37827793262681436, test-loss: 0.38027429318000067\n",
      "-- Epoch 71 -- train-loss: 0.3784339977980717, test-loss: 0.38066498647002467\n",
      "-- Epoch 72 -- train-loss: 0.37827101037513366, test-loss: 0.3805212390488769\n",
      "-- Epoch 73 -- train-loss: 0.3785287902215003, test-loss: 0.38086530719917866\n",
      "-- Epoch 74 -- train-loss: 0.37842364006968787, test-loss: 0.3806557103687903\n",
      "done\n"
     ]
    }
   ],
   "source": [
    "import random\n",
    "\n",
    "# epoch size = 75\n",
    "for epoch in range(75):\n",
    "    for i in range(N):\n",
    "        # batch-size = 1\n",
    "        batch = random.randrange(0,N)\n",
    "        \n",
    "        w = (( 1 - ( (alpha*eta0)/N) ) * w ) + ( (alpha*X_train[batch]) * ( y_train[batch] - sigmoid(w, X_train[batch], b) ) )\n",
    "        b = (b - ( alpha * ( -(y_train[batch]) + sigmoid(w, X_train[batch], b) ) ))\n",
    "        \n",
    "    # predicting y-values for X_train for given w and b\n",
    "    y_train_pred = predict(w, X_train, b)\n",
    "    # calculating log-loss for training data and appending into a list \"train_loss\"\n",
    "    loss1 = logloss(y_train, y_train_pred)\n",
    "    train_loss.append(loss1)\n",
    "    \n",
    "    # predicting y-values for X_test for given w and b\n",
    "    y_test_pred = predict(w, X_test, b)\n",
    "    # calculating log-loss for test  data and appending into a list \"test_loss\"\n",
    "    loss2 = logloss(y_test, y_test_pred)\n",
    "    test_loss.append(loss2)\n",
    "    \n",
    "    print(\"-- Epoch {0} -- train-loss: {1}, test-loss: {2}\".format(epoch, loss1, loss2))\n",
    "    \n",
    "print(\"done\")"
   ]
  },
  {
   "cell_type": "markdown",
   "metadata": {},
   "source": [
    "**5. Plot the train and test loss i.e on x-axis the epoch number, and on y-axis the loss**"
   ]
  },
  {
   "cell_type": "code",
   "execution_count": 74,
   "metadata": {},
   "outputs": [
    {
     "data": {
      "image/png": "[encoded data removed]",
      "text/plain": [
       "<Figure size 648x432 with 1 Axes>"
      ]
     },
     "metadata": {
      "needs_background": "light"
     },
     "output_type": "display_data"
    }
   ],
   "source": [
    "%matplotlib inline\n",
    "import matplotlib.pyplot as plt\n",
    "\n",
    "plt.figure(figsize=(9,6))\n",
    "\n",
    "plt.plot(train_loss[1:], label=\"train log-loss\")\n",
    "plt.plot(test_loss[1:], label=\"test log-loss\")\n",
    "\n",
    "plt.xlabel(\"Epoch\")\n",
    "plt.ylabel(\"Log-loss\")\n",
    "plt.legend(loc=\"upper right\", bbox_to_anchor=(0.9,0.85))\n",
    "plt.title(\"Log-loss\")\n",
    "\n",
    "plt.show()\n"
   ]
  },
  {
   "cell_type": "markdown",
   "metadata": {},
   "source": [
    "**6. Comparing custom implemened's and SGDClassifier's weights and intercept:**"
   ]
  },
  {
   "cell_type": "code",
   "execution_count": 75,
   "metadata": {
    "colab": {},
    "colab_type": "code",
    "id": "Yy8jWaa7Svn_",
    "outputId": "a5bdc6de-084e-4c0d-d905-3529d0dd268a",
    "scrolled": true
   },
   "outputs": [
    {
     "data": {
      "text/plain": [
       "(array([[-0.00645603, -0.00111687, -0.00830812,  0.00063956, -0.01971493,\n",
       "          0.00801469,  0.01433685,  0.00801837,  0.00261959, -0.00248992,\n",
       "          0.00303087, -0.00132354, -0.01133637, -0.01181596,  0.01195003]]),\n",
       " array([-0.03730264]))"
      ]
     },
     "execution_count": 75,
     "metadata": {},
     "output_type": "execute_result"
    }
   ],
   "source": [
    "# these are the results we got after we implemented sgd and found the optimal weights and intercept\n",
    "w-clf.coef_, b-clf.intercept_"
   ]
  },
  {
   "cell_type": "markdown",
   "metadata": {},
   "source": [
    "**7. Accuracy on final w and b**"
   ]
  },
  {
   "cell_type": "code",
   "execution_count": 76,
   "metadata": {
    "colab": {},
    "colab_type": "code",
    "id": "48gx6wQKSvoE",
    "outputId": "73838465-1f8e-4697-fe22-c49a816e1207"
   },
   "outputs": [
    {
     "name": "stdout",
     "output_type": "stream",
     "text": [
      "Accuracy on train data:\n",
      "0.9499466666666667\n",
      "Accuracy on test data:\n",
      "0.94856\n"
     ]
    }
   ],
   "source": [
    "# in the last, for calculating the accuracy score with optimal w and b\n",
    "\n",
    "def pred(w, b, X):\n",
    "    N = len(X)\n",
    "    predict = []\n",
    "    for i in range(N):\n",
    "        if sigmoid(w, X[i], b) >= 0.5: # sigmoid(w,x,b) returns 1/(1+exp(-(dot(x,w)+b)))\n",
    "            predict.append(1)\n",
    "        else:\n",
    "            predict.append(0)\n",
    "    return np.array(predict)\n",
    "\n",
    "print(\"Accuracy on train data:\")\n",
    "print(1-np.sum(y_train - pred(w,b,X_train))/len(X_train))\n",
    "\n",
    "print(\"Accuracy on test data:\")\n",
    "print(1-np.sum(y_test  - pred(w,b,X_test))/len(X_test))"
   ]
  },
  {
   "cell_type": "code",
   "execution_count": null,
   "metadata": {},
   "outputs": [],
   "source": []
  }
 ],
 "metadata": {
  "colab": {
   "collapsed_sections": [],
   "name": "Logistic Regression using SGD.ipynb",
   "provenance": []
  },
  "kernelspec": {
   "display_name": "Python 3",
   "language": "python",
   "name": "python3"
  },
  "language_info": {
   "codemirror_mode": {
    "name": "ipython",
    "version": 3
   },
   "file_extension": ".py",
   "mimetype": "text/x-python",
   "name": "python",
   "nbconvert_exporter": "python",
   "pygments_lexer": "ipython3",
   "version": "3.7.3"
  }
 },
 "nbformat": 4,
 "nbformat_minor": 1
}
